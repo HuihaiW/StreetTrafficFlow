{
 "cells": [
  {
   "cell_type": "code",
   "execution_count": 1,
   "id": "540a4555",
   "metadata": {},
   "outputs": [],
   "source": [
    "import pandas as pd\n",
    "import numpy as np\n",
    "import os"
   ]
  },
  {
   "cell_type": "code",
   "execution_count": 105,
   "id": "0966011e",
   "metadata": {},
   "outputs": [],
   "source": [
    "P = pd.read_csv(r'../Data/Result_Y.csv').drop(columns=['Unnamed: 0'])\n",
    "R = pd.read_csv(r'../Data/Hour_Y.csv').drop(columns=['Unnamed: 0'])\n",
    "X = pd.read_csv(r'../Data/X_ave.csv')[['SpatialJoi']]\n",
    "Test_mask = pd.read_csv(r'../Data/testMask.csv')"
   ]
  },
  {
   "cell_type": "code",
   "execution_count": 106,
   "id": "fa60820e",
   "metadata": {},
   "outputs": [],
   "source": [
    "P_values = P.values\n",
    "R_values = R.values"
   ]
  },
  {
   "cell_type": "code",
   "execution_count": 107,
   "id": "613886c3",
   "metadata": {},
   "outputs": [],
   "source": [
    "errors = P_values - R_values"
   ]
  },
  {
   "cell_type": "code",
   "execution_count": 108,
   "id": "41e765e9",
   "metadata": {},
   "outputs": [],
   "source": [
    "P_columns = []\n",
    "for i in range(24):\n",
    "    P_columns.append('P_' + str(i))\n",
    "P_values_df = pd.DataFrame(P_values, columns=P_columns)"
   ]
  },
  {
   "cell_type": "code",
   "execution_count": 109,
   "id": "e3e05112",
   "metadata": {},
   "outputs": [],
   "source": [
    "R_columns = []\n",
    "for i in range(24):\n",
    "    R_columns.append('R_' + str(i))\n",
    "R_values_df = pd.DataFrame(R_values, columns=R_columns)"
   ]
  },
  {
   "cell_type": "code",
   "execution_count": 110,
   "id": "85e3f40c",
   "metadata": {},
   "outputs": [],
   "source": [
    "E_columns = []\n",
    "for i in range(24):\n",
    "    E_columns.append('E_' + str(i))\n",
    "E_values_df = pd.DataFrame(P_values - R_values, columns=E_columns)"
   ]
  },
  {
   "cell_type": "code",
   "execution_count": 111,
   "id": "0524dbb2",
   "metadata": {},
   "outputs": [],
   "source": [
    "Test_values = np.array([-1 for i in range(Test_mask.shape[0])])\n",
    "Test_values[Test_mask['Mask'].values] = 1\n",
    "Test_values = pd.DataFrame(Test_values, columns=['Test_values'])"
   ]
  },
  {
   "cell_type": "code",
   "execution_count": 112,
   "id": "1b4218a0",
   "metadata": {},
   "outputs": [],
   "source": [
    "frame_list = [X, R_values_df, P_values_df, E_values_df, Test_values]"
   ]
  },
  {
   "cell_type": "code",
   "execution_count": 113,
   "id": "8eab39ca",
   "metadata": {},
   "outputs": [],
   "source": [
    "df_all = pd.concat(frame_list, axis=1)"
   ]
  },
  {
   "cell_type": "code",
   "execution_count": 114,
   "id": "59dc3788",
   "metadata": {},
   "outputs": [],
   "source": [
    "P_sum = P_values.sum(axis=1)\n",
    "R_sum = R_values.sum(axis=1)\n",
    "erros_all_P = (P_sum - R_sum) / R_sum\n",
    "df_all['All_P_E'] = erros_all_P"
   ]
  },
  {
   "cell_type": "code",
   "execution_count": 102,
   "id": "f35632dd",
   "metadata": {},
   "outputs": [],
   "source": [
    "# df_all = df_all[df_all['R_0']!= -1]"
   ]
  },
  {
   "cell_type": "code",
   "execution_count": 116,
   "id": "621a436c",
   "metadata": {},
   "outputs": [],
   "source": [
    "df_all = df_all.groupby('SpatialJoi', as_index=False).max()"
   ]
  },
  {
   "cell_type": "code",
   "execution_count": 118,
   "id": "6e3298cb",
   "metadata": {},
   "outputs": [],
   "source": [
    "P_sum = df_all[P_columns].values.sum(axis=1)\n",
    "R_sum = df_all[R_columns].values.sum(axis=1)\n",
    "erros_all_P = (P_sum - R_sum) / R_sum\n",
    "df_all['All_P_E'] = erros_all_P"
   ]
  },
  {
   "cell_type": "code",
   "execution_count": 120,
   "id": "d6659151",
   "metadata": {},
   "outputs": [],
   "source": [
    "R_values = df_all[R_columns].values\n",
    "P_values = df_all[P_columns].values\n",
    "E_values = P_values - R_values\n",
    "df_all[E_columns] = E_values"
   ]
  },
  {
   "cell_type": "code",
   "execution_count": 122,
   "id": "15584048",
   "metadata": {},
   "outputs": [],
   "source": [
    "df_all.to_csv(r'../Data/Result_ARCMAP.csv')"
   ]
  },
  {
   "cell_type": "code",
   "execution_count": null,
   "id": "1c96cba9",
   "metadata": {},
   "outputs": [],
   "source": [
    "df_all_mask = df_all[['SpatialJoi', 'Test_values']]\n",
    "df_all_mask = df_all_mask.groupby('SpatialJoi', as_index=False).min()\n",
    "df_all_mask = df_all_mask['Test_values'].values"
   ]
  },
  {
   "cell_type": "code",
   "execution_count": null,
   "id": "063882f8",
   "metadata": {},
   "outputs": [],
   "source": []
  },
  {
   "cell_type": "code",
   "execution_count": null,
   "id": "6974e61f",
   "metadata": {},
   "outputs": [],
   "source": []
  },
  {
   "cell_type": "code",
   "execution_count": 75,
   "id": "989c085c",
   "metadata": {},
   "outputs": [],
   "source": []
  },
  {
   "cell_type": "code",
   "execution_count": 76,
   "id": "6f6b70b5",
   "metadata": {},
   "outputs": [
    {
     "data": {
      "text/html": [
       "<div>\n",
       "<style scoped>\n",
       "    .dataframe tbody tr th:only-of-type {\n",
       "        vertical-align: middle;\n",
       "    }\n",
       "\n",
       "    .dataframe tbody tr th {\n",
       "        vertical-align: top;\n",
       "    }\n",
       "\n",
       "    .dataframe thead th {\n",
       "        text-align: right;\n",
       "    }\n",
       "</style>\n",
       "<table border=\"1\" class=\"dataframe\">\n",
       "  <thead>\n",
       "    <tr style=\"text-align: right;\">\n",
       "      <th></th>\n",
       "      <th>Unnamed: 0</th>\n",
       "      <th>Mask</th>\n",
       "    </tr>\n",
       "  </thead>\n",
       "  <tbody>\n",
       "    <tr>\n",
       "      <th>0</th>\n",
       "      <td>0</td>\n",
       "      <td>False</td>\n",
       "    </tr>\n",
       "    <tr>\n",
       "      <th>1</th>\n",
       "      <td>1</td>\n",
       "      <td>False</td>\n",
       "    </tr>\n",
       "    <tr>\n",
       "      <th>2</th>\n",
       "      <td>2</td>\n",
       "      <td>False</td>\n",
       "    </tr>\n",
       "    <tr>\n",
       "      <th>3</th>\n",
       "      <td>3</td>\n",
       "      <td>False</td>\n",
       "    </tr>\n",
       "    <tr>\n",
       "      <th>4</th>\n",
       "      <td>4</td>\n",
       "      <td>False</td>\n",
       "    </tr>\n",
       "    <tr>\n",
       "      <th>...</th>\n",
       "      <td>...</td>\n",
       "      <td>...</td>\n",
       "    </tr>\n",
       "    <tr>\n",
       "      <th>23144</th>\n",
       "      <td>23144</td>\n",
       "      <td>False</td>\n",
       "    </tr>\n",
       "    <tr>\n",
       "      <th>23145</th>\n",
       "      <td>23145</td>\n",
       "      <td>False</td>\n",
       "    </tr>\n",
       "    <tr>\n",
       "      <th>23146</th>\n",
       "      <td>23146</td>\n",
       "      <td>False</td>\n",
       "    </tr>\n",
       "    <tr>\n",
       "      <th>23147</th>\n",
       "      <td>23147</td>\n",
       "      <td>False</td>\n",
       "    </tr>\n",
       "    <tr>\n",
       "      <th>23148</th>\n",
       "      <td>23148</td>\n",
       "      <td>False</td>\n",
       "    </tr>\n",
       "  </tbody>\n",
       "</table>\n",
       "<p>23149 rows × 2 columns</p>\n",
       "</div>"
      ],
      "text/plain": [
       "       Unnamed: 0   Mask\n",
       "0               0  False\n",
       "1               1  False\n",
       "2               2  False\n",
       "3               3  False\n",
       "4               4  False\n",
       "...           ...    ...\n",
       "23144       23144  False\n",
       "23145       23145  False\n",
       "23146       23146  False\n",
       "23147       23147  False\n",
       "23148       23148  False\n",
       "\n",
       "[23149 rows x 2 columns]"
      ]
     },
     "execution_count": 76,
     "metadata": {},
     "output_type": "execute_result"
    }
   ],
   "source": [
    "Test_mask['']"
   ]
  },
  {
   "cell_type": "code",
   "execution_count": 42,
   "id": "74fd964c",
   "metadata": {},
   "outputs": [
    {
     "data": {
      "text/plain": [
       "Index(['Unnamed: 0', 'FeatureTyp', 'SegmentTyp', 'TrafDir', 'SegmentID',\n",
       "       'XFrom', 'YFrom', 'XTo', 'YTo', 'SegmentID_', 'SpatialJoi', 'D_Busstop',\n",
       "       'D_Subway', 'NodeIDFrom', 'NodeIDTo', 'X', 'Y', 'SVIID', 'ID',\n",
       "       'SegDir1', 'SegDir2', 'StreetWidt', 'Length', 'Commercial',\n",
       "       'CulturalFa', 'EducationF', 'Government', 'HealthServ', 'Miscellane',\n",
       "       'PublicSafe', 'Recreation', 'ReligiousI', 'Residentia', 'SocialServ',\n",
       "       'Transporta', 'Water', 'Avg_B01001', 'Avg_B010_1', 'Avg_B010_2',\n",
       "       'Avg_B010_3', 'Avg_B02001', 'Avg_B020_1', 'Avg_B020_2', 'Avg_B08006',\n",
       "       'Avg_B080_1', 'Avg_B080_2', 'Avg_B08013', 'Avg_B08124', 'Avg_B15003',\n",
       "       'Avg_B19001', 'Avg_B19013', 'Avg_B23013', 'Avg_B24011', 'Avg_B240_1',\n",
       "       'Avg_B240_2', 'Avg_B240_3', 'Avg_B240_4', 'Avg_B240_5', 'Avg_B240_6',\n",
       "       'Avg_B240_7', 'Avg_B240_8', 'Avg_B240_9', 'Avg_B24_10', 'Avg_B24_11',\n",
       "       'Avg_B24_12', 'Avg_B24_13', 'Avg_B24_14', 'Avg_B24_15', 'Avg_B24_16',\n",
       "       'Avg_B24_17', 'Avg_B24_18', 'Avg_B24_20', 'Avg_B24_21', 'Avg_B24_22',\n",
       "       'Avg_B24_23', 'Avg_B24_24'],\n",
       "      dtype='object')"
      ]
     },
     "execution_count": 42,
     "metadata": {},
     "output_type": "execute_result"
    }
   ],
   "source": [
    "X.columns"
   ]
  },
  {
   "cell_type": "code",
   "execution_count": 43,
   "id": "c76b3ea2",
   "metadata": {},
   "outputs": [
    {
     "data": {
      "text/plain": [
       "0           495\n",
       "1           497\n",
       "2           497\n",
       "3           498\n",
       "4           499\n",
       "          ...  \n",
       "23144    194143\n",
       "23145    194144\n",
       "23146    194144\n",
       "23147    194145\n",
       "23148    194145\n",
       "Name: SpatialJoi, Length: 23149, dtype: int64"
      ]
     },
     "execution_count": 43,
     "metadata": {},
     "output_type": "execute_result"
    }
   ],
   "source": [
    "X['SpatialJoi']"
   ]
  },
  {
   "cell_type": "code",
   "execution_count": null,
   "id": "1ed1bddf",
   "metadata": {},
   "outputs": [],
   "source": []
  }
 ],
 "metadata": {
  "kernelspec": {
   "display_name": "Python 3 (ipykernel)",
   "language": "python",
   "name": "python3"
  },
  "language_info": {
   "codemirror_mode": {
    "name": "ipython",
    "version": 3
   },
   "file_extension": ".py",
   "mimetype": "text/x-python",
   "name": "python",
   "nbconvert_exporter": "python",
   "pygments_lexer": "ipython3",
   "version": "3.9.13"
  }
 },
 "nbformat": 4,
 "nbformat_minor": 5
}
